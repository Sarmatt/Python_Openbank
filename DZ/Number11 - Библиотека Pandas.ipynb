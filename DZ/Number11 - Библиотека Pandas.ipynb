{
 "cells": [
  {
   "cell_type": "markdown",
   "metadata": {},
   "source": [
    "### Задание 1\n",
    "\n",
    "Скачайте с сайта https://grouplens.org/datasets/movielens/ датасет любого размера. Определите какому фильму было выставлено больше всего оценок 5.0."
   ]
  },
  {
   "cell_type": "code",
   "execution_count": 33,
   "metadata": {},
   "outputs": [],
   "source": [
    "import pandas as pd"
   ]
  },
  {
   "cell_type": "code",
   "execution_count": 48,
   "metadata": {},
   "outputs": [],
   "source": [
    "data_r = pd.read_csv('ratings.dat', sep= '::', header =None,engine='python')\n",
    "data_w = pd.read_csv('movies.dat', sep= '::', header =None,engine='python')"
   ]
  },
  {
   "cell_type": "code",
   "execution_count": 71,
   "metadata": {
    "scrolled": true
   },
   "outputs": [
    {
     "name": "stdout",
     "output_type": "stream",
     "text": [
      "Самое большое кол-во оценок 5 выставлено фильму: American Beauty (1999)    3428\n",
      "Name: film_name, dtype: int64\n"
     ]
    }
   ],
   "source": [
    "# подготовили данные\n",
    "\n",
    "data_r['film_id'] = data_r[1]\n",
    "data_r['rating'] = data_r[3]\n",
    "rating_data = data_r[['film_id', 'rating']]\n",
    "#print(rating_data.info())\n",
    "\n",
    "data_w['film_id'] = data_w[0]\n",
    "data_w['film_name'] = data_w[1]\n",
    "film_info_data = data_w[['film_id', 'film_name']]\n",
    "#print(film_info_data.info())\n",
    "\n",
    "joined = data_r.merge(data_w, on='film_id', how='left')\n",
    "data_final = joined[['film_id','rating','film_name']]\n",
    "\n",
    "data_final.head()\n",
    "\n",
    "# нашли фильм с наибольшим кол-во 5 \n",
    "film_w_five = data_final[data_final.rating>=5]\n",
    "id_film = film_w_five['film_name'].value_counts().head(1)\n",
    "id_film.head()\n",
    "\n",
    "print(f'Самое большое кол-во оценок 5 выставлено фильму: {id_film.head()}')"
   ]
  },
  {
   "cell_type": "markdown",
   "metadata": {},
   "source": [
    "### Задание 2\n",
    "По данным файла power.csv посчитайте суммарное потребление стран Прибалтики (Латвия, Литва и Эстония) категорий 4, 12 и 21 за период с 2005 по 2010 года. Не учитывайте в расчетах отрицательные значения quantity."
   ]
  },
  {
   "cell_type": "code",
   "execution_count": 37,
   "metadata": {},
   "outputs": [
    {
     "name": "stdout",
     "output_type": "stream",
     "text": [
      "240580.0\n"
     ]
    }
   ],
   "source": [
    "\n",
    "data_energy = pd.read_csv('power.csv')\n",
    "final_data_energy_info = data_energy[\n",
    "            ((data_energy['country']=='Latvia')|\n",
    "             (data_energy['country']=='Estonia')|\n",
    "             (data_energy['country']=='Lithuania'))&\n",
    "    \n",
    "            ((data_energy['year']>=2005)&(data_energy['year']<=2010))&\n",
    "    \n",
    "            ((data_energy['category']==4)|\n",
    "             (data_energy['category']==12)|\n",
    "             (data_energy['category']==21))&\n",
    "    \n",
    "            ((data_energy['quantity']>0))\n",
    "                ]\n",
    "final_sum = 0\n",
    "for i in list(final_data_energy_info['quantity']):\n",
    "    final_sum += i\n",
    "print(final_sum)"
   ]
  },
  {
   "cell_type": "markdown",
   "metadata": {},
   "source": [
    "### Задание 3\n",
    "\n",
    "Выберите страницу любого сайта с табличными данными. Импортируйте таблицы в pandas dataframe.\n",
    "Примеры страниц (необязательно брать именно эти):\n",
    "https://fortrader.org/quotes\n",
    "https://www.finanz.ru/valyuty/v-realnom-vremeni"
   ]
  },
  {
   "cell_type": "code",
   "execution_count": 38,
   "metadata": {},
   "outputs": [],
   "source": [
    "data_html = pd.read_html('https://www.finanz.ru/valyuty/v-realnom-vremeni')[0]"
   ]
  },
  {
   "cell_type": "code",
   "execution_count": 39,
   "metadata": {},
   "outputs": [
    {
     "data": {
      "text/html": [
       "<div>\n",
       "<style scoped>\n",
       "    .dataframe tbody tr th:only-of-type {\n",
       "        vertical-align: middle;\n",
       "    }\n",
       "\n",
       "    .dataframe tbody tr th {\n",
       "        vertical-align: top;\n",
       "    }\n",
       "\n",
       "    .dataframe thead th {\n",
       "        text-align: right;\n",
       "    }\n",
       "</style>\n",
       "<table border=\"1\" class=\"dataframe\">\n",
       "  <thead>\n",
       "    <tr style=\"text-align: right;\">\n",
       "      <th></th>\n",
       "      <th>0</th>\n",
       "      <th>1</th>\n",
       "      <th>2</th>\n",
       "      <th>3</th>\n",
       "      <th>4</th>\n",
       "      <th>5</th>\n",
       "      <th>6</th>\n",
       "      <th>7</th>\n",
       "      <th>8</th>\n",
       "      <th>9</th>\n",
       "      <th>10</th>\n",
       "      <th>11</th>\n",
       "    </tr>\n",
       "  </thead>\n",
       "  <tbody>\n",
       "    <tr>\n",
       "      <th>0</th>\n",
       "      <td>аааа</td>\n",
       "      <td>3Т 638</td>\n",
       "      <td>0,0%</td>\n",
       "      <td>Nasdaq</td>\n",
       "      <td>13Т 430</td>\n",
       "      <td>2,3%</td>\n",
       "      <td>ааИбаКаОаЙаН</td>\n",
       "      <td>48Т 263</td>\n",
       "      <td>3,0%</td>\n",
       "      <td>USD/RUB</td>\n",
       "      <td>740160</td>\n",
       "      <td>0,0%</td>\n",
       "    </tr>\n",
       "    <tr>\n",
       "      <th>1</th>\n",
       "      <td>а аЂаЁ</td>\n",
       "      <td>1Т 549</td>\n",
       "      <td>0,1%</td>\n",
       "      <td>S&amp;P500</td>\n",
       "      <td>4Т 174</td>\n",
       "      <td>1,5%</td>\n",
       "      <td>ааЕббб</td>\n",
       "      <td>688</td>\n",
       "      <td>2,7%</td>\n",
       "      <td>EUR/RUB</td>\n",
       "      <td>898740</td>\n",
       "      <td>0,0%</td>\n",
       "    </tr>\n",
       "    <tr>\n",
       "      <th>2</th>\n",
       "      <td>Dow</td>\n",
       "      <td>34Т 382</td>\n",
       "      <td>1,1%</td>\n",
       "      <td>FTSE100</td>\n",
       "      <td>7Т 044</td>\n",
       "      <td>1,2%</td>\n",
       "      <td>ааОаЛаОбаО</td>\n",
       "      <td>1Т 843</td>\n",
       "      <td>0,9%</td>\n",
       "      <td>EUR/USD</td>\n",
       "      <td>12146</td>\n",
       "      <td>0,0%</td>\n",
       "    </tr>\n",
       "  </tbody>\n",
       "</table>\n",
       "</div>"
      ],
      "text/plain": [
       "         0        1     2        3        4     5               6        7   \\\n",
       "0  аааа   3Т 638  0,0%   Nasdaq  13Т 430  2,3%  ааИбаКаОаЙаН  48Т 263   \n",
       "1    а аЂаЁ   1Т 549  0,1%   S&P500   4Т 174  1,5%      ааЕббб      688   \n",
       "2       Dow  34Т 382  1,1%  FTSE100   7Т 044  1,2%    ааОаЛаОбаО   1Т 843   \n",
       "\n",
       "     8        9       10    11  \n",
       "0  3,0%  USD/RUB  740160  0,0%  \n",
       "1  2,7%  EUR/RUB  898740  0,0%  \n",
       "2  0,9%  EUR/USD   12146  0,0%  "
      ]
     },
     "execution_count": 39,
     "metadata": {},
     "output_type": "execute_result"
    }
   ],
   "source": [
    "data_html"
   ]
  },
  {
   "cell_type": "code",
   "execution_count": null,
   "metadata": {},
   "outputs": [],
   "source": []
  }
 ],
 "metadata": {
  "kernelspec": {
   "display_name": "Python 3",
   "language": "python",
   "name": "python3"
  },
  "language_info": {
   "codemirror_mode": {
    "name": "ipython",
    "version": 3
   },
   "file_extension": ".py",
   "mimetype": "text/x-python",
   "name": "python",
   "nbconvert_exporter": "python",
   "pygments_lexer": "ipython3",
   "version": "3.8.3"
  }
 },
 "nbformat": 4,
 "nbformat_minor": 4
}
