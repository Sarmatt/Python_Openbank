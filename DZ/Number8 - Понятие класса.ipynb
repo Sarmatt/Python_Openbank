{
 "cells": [
  {
   "cell_type": "markdown",
   "metadata": {},
   "source": [
    "### Задание 1\n",
    "\n",
    "Напишите функцию, которая возвращает название валюты (поле ‘Name’) с максимальным значением курса с помощью сервиса https://www.cbr-xml-daily.ru/daily_json.js"
   ]
  },
  {
   "cell_type": "code",
   "execution_count": 24,
   "metadata": {},
   "outputs": [],
   "source": [
    "def max_currency_rate():\n",
    "    import requests\n",
    "    full_data = r.get('https://www.cbr-xml-daily.ru/daily_json.js').json()\n",
    "    curr = full_data['Valute']\n",
    "\n",
    "    library = {}\n",
    "\n",
    "    for line in curr.values():\n",
    "        name=line['Name']\n",
    "        val=line['Value']\n",
    "\n",
    "        library[name] = val\n",
    "\n",
    "    for key, value in library.items():\n",
    "        if value == max(library.values()):\n",
    "            max_value = key\n",
    "        else:\n",
    "            pass\n",
    "\n",
    "    \n",
    "    return print(max_value)"
   ]
  },
  {
   "cell_type": "code",
   "execution_count": 25,
   "metadata": {},
   "outputs": [
    {
     "ename": "NameError",
     "evalue": "name 'r' is not defined",
     "output_type": "error",
     "traceback": [
      "\u001b[1;31m---------------------------------------------------------------------------\u001b[0m",
      "\u001b[1;31mNameError\u001b[0m                                 Traceback (most recent call last)",
      "\u001b[1;32m<ipython-input-25-6b1e6ef781c6>\u001b[0m in \u001b[0;36m<module>\u001b[1;34m\u001b[0m\n\u001b[1;32m----> 1\u001b[1;33m \u001b[0mmax_currency_rate\u001b[0m\u001b[1;33m(\u001b[0m\u001b[1;33m)\u001b[0m\u001b[1;33m\u001b[0m\u001b[1;33m\u001b[0m\u001b[0m\n\u001b[0m",
      "\u001b[1;32m<ipython-input-24-a51c7296db08>\u001b[0m in \u001b[0;36mmax_currency_rate\u001b[1;34m()\u001b[0m\n\u001b[0;32m      1\u001b[0m \u001b[1;32mdef\u001b[0m \u001b[0mmax_currency_rate\u001b[0m\u001b[1;33m(\u001b[0m\u001b[1;33m)\u001b[0m\u001b[1;33m:\u001b[0m\u001b[1;33m\u001b[0m\u001b[1;33m\u001b[0m\u001b[0m\n\u001b[0;32m      2\u001b[0m     \u001b[1;32mimport\u001b[0m \u001b[0mrequests\u001b[0m\u001b[1;33m\u001b[0m\u001b[1;33m\u001b[0m\u001b[0m\n\u001b[1;32m----> 3\u001b[1;33m     \u001b[0mfull_data\u001b[0m \u001b[1;33m=\u001b[0m \u001b[0mr\u001b[0m\u001b[1;33m.\u001b[0m\u001b[0mget\u001b[0m\u001b[1;33m(\u001b[0m\u001b[1;34m'https://www.cbr-xml-daily.ru/daily_json.js'\u001b[0m\u001b[1;33m)\u001b[0m\u001b[1;33m.\u001b[0m\u001b[0mjson\u001b[0m\u001b[1;33m(\u001b[0m\u001b[1;33m)\u001b[0m\u001b[1;33m\u001b[0m\u001b[1;33m\u001b[0m\u001b[0m\n\u001b[0m\u001b[0;32m      4\u001b[0m     \u001b[0mcurr\u001b[0m \u001b[1;33m=\u001b[0m \u001b[0mfull_data\u001b[0m\u001b[1;33m[\u001b[0m\u001b[1;34m'Valute'\u001b[0m\u001b[1;33m]\u001b[0m\u001b[1;33m\u001b[0m\u001b[1;33m\u001b[0m\u001b[0m\n\u001b[0;32m      5\u001b[0m \u001b[1;33m\u001b[0m\u001b[0m\n",
      "\u001b[1;31mNameError\u001b[0m: name 'r' is not defined"
     ]
    }
   ],
   "source": [
    "max_currency_rate()"
   ]
  },
  {
   "cell_type": "code",
   "execution_count": null,
   "metadata": {},
   "outputs": [],
   "source": []
  },
  {
   "cell_type": "code",
   "execution_count": 26,
   "metadata": {},
   "outputs": [],
   "source": [
    "import requests"
   ]
  },
  {
   "cell_type": "markdown",
   "metadata": {},
   "source": [
    "### Задание 2\n",
    "\n",
    "Добавьте в класс Rate параметр diff (со значениями True или False), который в случае значения True в методах курсов валют (eur, usd итд) будет возвращать не курс валюты, а изменение по сравнению в прошлым значением. Считайте, self.diff будет принимать значение True только при возврате значения курса. При отображении всей информации о валюте он не используется."
   ]
  },
  {
   "cell_type": "code",
   "execution_count": 12,
   "metadata": {},
   "outputs": [],
   "source": [
    "class Rate:\n",
    "    \n",
    "    def __init__(self, format_='value', diff_print = False):\n",
    "        self.format = format_\n",
    "        self.diff = diff_print\n",
    "    \n",
    "    def exchange_rates(self):\n",
    "        \"\"\"\n",
    "        Возвращает ответ сервиса с информацией о валютах в виде:\n",
    "        \n",
    "        {\n",
    "            'AMD': {\n",
    "                'CharCode': 'AMD',\n",
    "                'ID': 'R01060',\n",
    "                'Name': 'Армянских драмов',\n",
    "                'Nominal': 100,\n",
    "                'NumCode': '051',\n",
    "                'Previous': 14.103,\n",
    "                'Value': 14.0879\n",
    "                },\n",
    "            ...\n",
    "        }\n",
    "        \"\"\"\n",
    "        self.r = requests.get('https://www.cbr-xml-daily.ru/daily_json.js')\n",
    "        return self.r.json()['Valute']\n",
    "    \n",
    "    def make_format(self, currency):\n",
    "        \"\"\"\n",
    "        Возвращает информацию о валюте currency в двух вариантах:\n",
    "        - полная информация о валюте при self.format = 'full':\n",
    "        Rate('full').make_format('EUR')\n",
    "        {\n",
    "            'CharCode': 'EUR',\n",
    "            'ID': 'R01239',\n",
    "            'Name': 'Евро',\n",
    "            'Nominal': 1,\n",
    "            'NumCode': '978',\n",
    "            'Previous': 79.6765,\n",
    "            'Value': 79.4966\n",
    "        }\n",
    "        \n",
    "        Rate('value').make_format('EUR')\n",
    "        79.4966\n",
    "        \"\"\"\n",
    "        response = self.exchange_rates()\n",
    "        \n",
    "        if currency in response:\n",
    "            if self.format == 'full':\n",
    "                return response[currency]\n",
    "            \n",
    "            if self.format == 'value':\n",
    "                return response[currency]['Value']\n",
    "        \n",
    "        return 'Error'\n",
    "    \n",
    "    \n",
    "\n",
    "    \n",
    "    \n",
    "    def eur(self, diff_print= False):\n",
    "        \"\"\"\n",
    "        Возвращает курс евро на сегодня в формате self.format при diff_print = False\n",
    "        Возвращает разницу курса евро между значениями на сегодня и предыдущим значением при diff_print = True\n",
    "        \n",
    "        \"\"\"\n",
    "        \n",
    "        if diff_print == False:\n",
    "            diff_print = self.make_format('EUR')\n",
    "        \n",
    "        else:\n",
    "            response = self.exchange_rates()\n",
    "            diff_print = response['EUR']['Value'] - response['EUR']['Previous']\n",
    "        \n",
    "        return diff_print\n",
    "    \n",
    "    def usd(self, diff_print= False):\n",
    "        \"\"\"\n",
    "        Возвращает курс доллара на сегодня в формате self.format при diff_print = False\n",
    "        Возвращает разницу курса доллара между значениями на сегодня и предыдущим значением при diff_print = True\n",
    "        \n",
    "        \"\"\"\n",
    "        \n",
    "        if diff_print == False:\n",
    "            diff_print = self.make_format('USD')\n",
    "        \n",
    "        else:\n",
    "            response = self.exchange_rates()\n",
    "            diff_print = response['USD']['Value'] - response['USD']['Previous']\n",
    "        \n",
    "        return diff_print\n",
    "    \n",
    "    def brl(self, diff_print= False):\n",
    "        \"\"\"\n",
    "        Возвращает курс бразильского реала на сегодня в формате self.format при diff_print = False\n",
    "        Возвращает разницу курса бразильского реала между значениями на сегодня и предыдущим значением при diff_print = True\n",
    "        \n",
    "        \"\"\"\n",
    "        \n",
    "        if diff_print == False:\n",
    "            diff_print = self.make_format('BRL')\n",
    "        \n",
    "        else:\n",
    "            response = self.exchange_rates()\n",
    "            diff_print = response['BRL']['Value'] - response['BRL']['Previous']\n",
    "        \n",
    "        return diff_print"
   ]
  },
  {
   "cell_type": "code",
   "execution_count": 13,
   "metadata": {},
   "outputs": [
    {
     "name": "stdout",
     "output_type": "stream",
     "text": [
      "{'ID': 'R01235', 'NumCode': '840', 'CharCode': 'USD', 'Nominal': 1, 'Name': 'Доллар США', 'Value': 74.04, 'Previous': 74.1567}\n",
      "{'ID': 'R01239', 'NumCode': '978', 'CharCode': 'EUR', 'Nominal': 1, 'Name': 'Евро', 'Value': 89.8475, 'Previous': 90.004}\n"
     ]
    }
   ],
   "source": [
    "a = Rate('full').make_format('USD')\n",
    "b = Rate('full').make_format('EUR')\n",
    "print(a)\n",
    "print(b)"
   ]
  },
  {
   "cell_type": "code",
   "execution_count": 14,
   "metadata": {},
   "outputs": [
    {
     "name": "stdout",
     "output_type": "stream",
     "text": [
      "89.8475\n",
      "-0.1565000000000083\n",
      "89.8475\n"
     ]
    }
   ],
   "source": [
    "x= Rate()\n",
    "\n",
    "print(x.eur(diff_print=False))\n",
    "print(x.eur(diff_print=True))\n",
    "print(x.eur())"
   ]
  },
  {
   "cell_type": "code",
   "execution_count": 15,
   "metadata": {},
   "outputs": [
    {
     "name": "stdout",
     "output_type": "stream",
     "text": [
      "74.04\n",
      "-0.11669999999999447\n",
      "74.04\n"
     ]
    }
   ],
   "source": [
    "x= Rate()\n",
    "\n",
    "print(x.usd(diff_print=False))\n",
    "print(x.usd(diff_print=True))\n",
    "print(x.usd())"
   ]
  },
  {
   "cell_type": "code",
   "execution_count": 16,
   "metadata": {},
   "outputs": [
    {
     "name": "stdout",
     "output_type": "stream",
     "text": [
      "14.1766\n",
      "-0.018499999999999517\n",
      "14.1766\n"
     ]
    }
   ],
   "source": [
    "x= Rate()\n",
    "\n",
    "print(x.brl(diff_print=False))\n",
    "print(x.brl(diff_print=True))\n",
    "print(x.brl())"
   ]
  },
  {
   "cell_type": "markdown",
   "metadata": {},
   "source": [
    "### Задание 3\n",
    "\n",
    "Напишите класс Designer, который учитывает количество международных премий. Подсказки в коде занятия в разделе “Домашнее задание задача 3”.\n",
    "\n",
    "* Комментарий по классу Designer такой:\n",
    "\n",
    "Напишите класс Designer, который учитывает количество международных премий для дизайнеров (из презентации: “Повышение на 1 грейд за каждые 7 баллов. Получение международной премии – это +2 балла”). Считайте, что при выходе на работу сотрудник уже имеет две премии и их количество не меняется со стажем (конечно если хотите это можно вручную менять).\n",
    "\n",
    "Класс Designer пишется по аналогии с классом Developer из материалов занятия. Комментарий про его условия Вика написала выше: “Повышение на 1 грейд за каждые 7 баллов. Получение международной премии – это +2 балла”"
   ]
  },
  {
   "cell_type": "code",
   "execution_count": 20,
   "metadata": {},
   "outputs": [],
   "source": [
    "class Designer:\n",
    "    def __init__(self, name, score):\n",
    "        self.name = name\n",
    "        self.score = 2\n",
    "        self.grade = 0\n",
    "        \n",
    "        \n",
    "        \n",
    "    def get_international_bonus(self):\n",
    "        \"\"\"Поулчает баллы при получение международной премии\"\"\"\n",
    "        self.score+=1\n",
    "     \n",
    "        \n",
    "    def grade_up(self):\n",
    "        \"\"\"Повышает уровень сотрудника\"\"\"\n",
    "        self.grade += 1\n",
    "    \n",
    "    \n",
    "    def check_promoution(self):\n",
    "\n",
    "            \n",
    "        # условие повышения сотрудника по баллам\n",
    "        if self.score % 7 == 0:\n",
    "            self.grade_up()\n",
    "        self.get_international_bonus()\n",
    "        if self.score % 7 == 0:\n",
    "            self.grade_up()\n",
    "        self.get_international_bonus()\n",
    "        \n",
    "        \n",
    "        # публикация результатов\n",
    "        return print(f'{self.name} имеет грэйд: {self.grade}, баллы на момент проверки {self.score}')"
   ]
  },
  {
   "cell_type": "code",
   "execution_count": 23,
   "metadata": {},
   "outputs": [
    {
     "name": "stdout",
     "output_type": "stream",
     "text": [
      "Вика имеет грэйд: 0, баллы на момент проверки 4\n"
     ]
    }
   ],
   "source": [
    "# Определяем вводные\n",
    "vika = Designer('Вика', 0)\n",
    "\n",
    "\n",
    "# Команда по проверке необходимости повышения соттрудника при получении премии\n",
    "vika.check_promoution()"
   ]
  },
  {
   "cell_type": "code",
   "execution_count": null,
   "metadata": {},
   "outputs": [],
   "source": []
  }
 ],
 "metadata": {
  "kernelspec": {
   "display_name": "Python 3",
   "language": "python",
   "name": "python3"
  },
  "language_info": {
   "codemirror_mode": {
    "name": "ipython",
    "version": 3
   },
   "file_extension": ".py",
   "mimetype": "text/x-python",
   "name": "python",
   "nbconvert_exporter": "python",
   "pygments_lexer": "ipython3",
   "version": "3.8.3"
  }
 },
 "nbformat": 4,
 "nbformat_minor": 4
}
