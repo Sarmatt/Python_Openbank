{
 "cells": [
  {
   "cell_type": "markdown",
   "metadata": {},
   "source": [
    "### Задание 1:\n",
    "\n",
    "Дана переменная, в которой хранится слово из латинских букв. Напишите код, который выводит на экран:\n",
    "\n",
    "* среднюю букву, если число букв в слове нечетное;\n",
    "* две средних буквы, если число букв четное."
   ]
  },
  {
   "cell_type": "code",
   "execution_count": null,
   "metadata": {},
   "outputs": [],
   "source": [
    "a = 'Programming'\n",
    "\n",
    "if len(a)%2 == 0:\n",
    "    b = int(len(a)/2)-1\n",
    "    c = b + 2\n",
    "    print(a[b:c])\n",
    "else:\n",
    "    b = int(len(a)/2)\n",
    "    print(a[b])"
   ]
  },
  {
   "cell_type": "markdown",
   "metadata": {},
   "source": [
    "### Задание 2:\n",
    "\n",
    "Напишите \n",
    "программу, которая последовательно запрашивает у пользователя числа (по одному за раз) и после первого нуля выводит сумму всех ранее введенных чисел."
   ]
  },
  {
   "cell_type": "code",
   "execution_count": 12,
   "metadata": {},
   "outputs": [
    {
     "name": "stdout",
     "output_type": "stream",
     "text": [
      "Введи число: 324\n",
      "5432\n",
      "2523\n",
      "222\n",
      "34\n",
      "0\n",
      "8535\n"
     ]
    }
   ],
   "source": [
    "number = int(input('Введи число: '))\n",
    "a = 0\n",
    "\n",
    "while number != 0:\n",
    "    a += number\n",
    "    number = int(input())\n",
    " \n",
    "print(a)"
   ]
  },
  {
   "cell_type": "code",
   "execution_count": 8,
   "metadata": {},
   "outputs": [
    {
     "name": "stdout",
     "output_type": "stream",
     "text": [
      "4\n",
      "54\n",
      "34\n",
      "6\n",
      "0\n",
      "98\n"
     ]
    }
   ],
   "source": [
    "a = int(input())\n",
    "sum = 0\n",
    "kol = 0\n",
    "while a != 0:\n",
    "    sum += a\n",
    "    kol += 1\n",
    "    a = int(input())\n",
    " \n",
    "print(sum)"
   ]
  },
  {
   "cell_type": "code",
   "execution_count": 4,
   "metadata": {},
   "outputs": [
    {
     "name": "stdout",
     "output_type": "stream",
     "text": [
      "3\n",
      "4\n",
      "6\n",
      "8\n",
      "0\n",
      "21\n",
      "4\n",
      "5.25\n"
     ]
    }
   ],
   "source": [
    "a = int(input())\n",
    "sum = 0\n",
    "kol = 0\n",
    "while a != 0:\n",
    "    sum += a\n",
    "    kol += 1\n",
    "    a = int(input())\n",
    " \n",
    "print(sum)\n",
    "print(kol)\n",
    "print(sum / kol)"
   ]
  },
  {
   "cell_type": "markdown",
   "metadata": {},
   "source": [
    "### Задание 3:\n",
    "\n",
    "Мы делаем MVP dating-сервиса, и у нас есть список парней и девушек.\n",
    "Выдвигаем гипотезу: лучшие рекомендации мы получим, если просто отсортируем имена по алфавиту и познакомим людей с одинаковыми индексами после сортировки! Но мы не будем никого знакомить, если кто-то может остаться без пары:"
   ]
  },
  {
   "cell_type": "code",
   "execution_count": 32,
   "metadata": {},
   "outputs": [
    {
     "name": "stdout",
     "output_type": "stream",
     "text": [
      "Совет да любовь: \n",
      "Alex и Emma\n",
      "Arthur и Kate\n",
      "John и Kira\n",
      "Peter и Liza\n",
      "Richard и Sonya\n",
      "Sergey и Susanna\n",
      "Stepan и Trisha\n"
     ]
    }
   ],
   "source": [
    "boys = ['Peter', 'Alex', 'John', 'Arthur', 'Richard','Sergey','Stepan']\n",
    "girls = ['Kate', 'Liza', 'Kira', 'Emma', 'Trisha','Susanna','Sonya']\n",
    "boys_and_girls = zip(sorted(boys),sorted(girls))\n",
    "a = list(boys_and_girls)\n",
    "\n",
    "if len(boys)==len(girls):\n",
    "    print('Совет да любовь: ')\n",
    "    for row in a:\n",
    "        print(f'{row[0]} и {row[1]}')\n",
    "\n",
    "else:\n",
    "    print('Радуйся, наивный. Повезёт в карьере!')"
   ]
  },
  {
   "cell_type": "markdown",
   "metadata": {},
   "source": [
    "### Задание 4:\n",
    "\n",
    "У нас есть список, содержащий информацию о среднедневной температуре в Фаренгейтах за произвольный период по странам (структура данных в примере). Необходимо написать код, который рассчитает среднюю температуру за период в Цельсиях(!) для каждой страны."
   ]
  },
  {
   "cell_type": "code",
   "execution_count": 31,
   "metadata": {},
   "outputs": [
    {
     "name": "stdout",
     "output_type": "stream",
     "text": [
      "Thailand - 23.86 C\n",
      "Germany - 13.8 C\n",
      "Russia - 3.72 C\n",
      "Poland - 12.0 C\n"
     ]
    }
   ],
   "source": [
    "countries_temperature = [\n",
    "['Thailand', [75.2, 77, 78.8, 73.4, 68, 75.2, 77]],\n",
    "['Germany', [57.2, 55.4, 59, 59, 53.6]],\n",
    "['Russia', [35.6, 37.4, 39.2, 41, 42.8, 39.2, 35.6]],\n",
    "['Poland', [50, 50, 53.6, 57.2, 55.4, 55.4]]\n",
    "]\n",
    "\n",
    "\n",
    "x = 0 \n",
    "for i in countries_temperature:\n",
    "    a = round((sum(countries_temperature[x][1])/len(countries_temperature[x][1])),2)\n",
    "    b = round((5/9)*(a-32),2)\n",
    "    \n",
    "    c = countries_temperature[x][0]\n",
    "    \n",
    "    \n",
    "    print(f'{c} - {b} C')\n",
    "    x+=1"
   ]
  },
  {
   "cell_type": "markdown",
   "metadata": {},
   "source": [
    "### Задание 5:\n",
    "\n",
    "Дан поток логов по количеству просмотренных страниц для каждого пользователя. Вам необходимо написать алгоритм, который считает среднее значение просмотров на пользователя. Т. е. надо посчитать отношение суммы всех просмотров к количеству уникальных пользователей."
   ]
  },
  {
   "cell_type": "code",
   "execution_count": 30,
   "metadata": {},
   "outputs": [
    {
     "name": "stdout",
     "output_type": "stream",
     "text": [
      "Общее время = 93\n",
      "Количествово уникальных пользователей = 4\n",
      "Среднее количество просмотров на уникального пользователя: 23.25\n"
     ]
    }
   ],
   "source": [
    "stream = [\n",
    "'2018-01-01,user1,3',\n",
    "'2018-01-07,user1,4',\n",
    "'2018-03-29,user1,1',\n",
    "'2018-04-04,user1,13',\n",
    "'2018-01-05,user2,7',\n",
    "'2018-06-14,user3,4',\n",
    "'2018-07-02,user3,10',\n",
    "'2018-03-21,user4,19',\n",
    "'2018-03-22,user4,4',\n",
    "'2018-04-22,user4,8',\n",
    "'2018-05-03,user4,9',\n",
    "'2018-05-11,user4,11',\n",
    "]\n",
    "\n",
    "row = 0 \n",
    "sum_time = 0 \n",
    "qnt = 0\n",
    "\n",
    "new_list = []\n",
    "for i in stream:\n",
    "    base_for_new_list = i.split(',')\n",
    "    new_list.append(base_for_new_list)\n",
    "\n",
    "for m in new_list:\n",
    "        sum_time += int(m[2])\n",
    "print(f'Общее время = {sum_time}')\n",
    "\n",
    "new_qnt_user = []\n",
    "for i in new_list:\n",
    "    if i[1] not in new_qnt_user:\n",
    "        new_qnt_user.append(i[1])\n",
    "    else:\n",
    "        pass\n",
    "    qnt = len(new_qnt_user)\n",
    "print(f'Количествово уникальных пользователей = {qnt}')\n",
    "\n",
    "avg_time_for_uniq_user = round(sum_time/qnt,2)\n",
    "\n",
    "print(f'Среднее количество просмотров на уникального пользователя: {avg_time_for_uniq_user}')"
   ]
  },
  {
   "cell_type": "markdown",
   "metadata": {},
   "source": [
    "### Задание 6:\n",
    "\n",
    "Необходимо у пользователя запрашивать набор чисел разделенных пробелом. В результате в отсортированном порядке должны выводиться числа, которые повторяются в вводе более одного раза."
   ]
  },
  {
   "cell_type": "code",
   "execution_count": 29,
   "metadata": {},
   "outputs": [],
   "source": [
    "# Ещё подумать"
   ]
  },
  {
   "cell_type": "code",
   "execution_count": null,
   "metadata": {},
   "outputs": [],
   "source": []
  }
 ],
 "metadata": {
  "kernelspec": {
   "display_name": "Python 3",
   "language": "python",
   "name": "python3"
  }
 },
 "nbformat": 4,
 "nbformat_minor": 4
}
