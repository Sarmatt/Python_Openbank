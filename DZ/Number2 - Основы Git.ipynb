{
 "cells": [
  {
   "cell_type": "markdown",
   "metadata": {},
   "source": [
    "Задание 1\n",
    "\n",
    "Мы должны удостовериться, что вы установили требуемое ПО перед содержательной частью курса. Необходимо прикрепить скриншот запущенного Jupyter Notebook на вашем ПК. Можно использовать сервис https://pastenow.ru/."
   ]
  },
  {
   "cell_type": "markdown",
   "metadata": {},
   "source": [
    "https://pastenow.ru/f0539942da44bb1e60dfacc68170c2ed"
   ]
  },
  {
   "cell_type": "markdown",
   "metadata": {},
   "source": [
    "Задание 2\n",
    "\n",
    "Пришлите скриншоты, которые будут демонстрировать, что вы решили первые 4 задачи из раздела \"Основы\" и первые 6 задач из раздела \"Удаленные репозитории\" на интерактивном тренажере Git.\n",
    "\n",
    "\n",
    "Дополнительная часть (необязательная)\n",
    "Пришлите скриншоты, которые будут демонстрировать, что вы выполнили все упражнения на интерактивном тренажере Git."
   ]
  },
  {
   "cell_type": "markdown",
   "metadata": {},
   "source": [
    "https://pastenow.ru/344dbf0086d019702d9004c0c5b6e727 первые четыре задания"
   ]
  },
  {
   "cell_type": "markdown",
   "metadata": {},
   "source": [
    "https://pastenow.ru/e8a5ae9a73c97f8a69ee8d08925a700d 6 первых заданий"
   ]
  },
  {
   "cell_type": "markdown",
   "metadata": {},
   "source": [
    "Задание 3\n",
    "\n",
    "\n",
    "Подготовьте и пришлите ссылку на репозиторий, в котором вы будете размещать домашние работы по курсу. Структура репозитория может быть любая, но самый очевидный вариант – своя отдельная папка для каждой лекции.\n",
    "\n"
   ]
  },
  {
   "cell_type": "code",
   "execution_count": null,
   "metadata": {},
   "outputs": [],
   "source": [
    "https://github.com/Sarmatt/Python_Openbank/tree/master/DZ"
   ]
  }
 ],
 "metadata": {
  "kernelspec": {
   "display_name": "Python 3",
   "language": "python",
   "name": "python3"
  },
  "language_info": {
   "codemirror_mode": {
    "name": "ipython",
    "version": 3
   },
   "file_extension": ".py",
   "mimetype": "text/x-python",
   "name": "python",
   "nbconvert_exporter": "python",
   "pygments_lexer": "ipython3",
   "version": "3.8.3"
  }
 },
 "nbformat": 4,
 "nbformat_minor": 4
}
