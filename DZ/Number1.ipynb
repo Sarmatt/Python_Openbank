{
 "cells": [
  {
   "cell_type": "markdown",
   "metadata": {},
   "source": [
    "### Задание 1:\n",
    "\n",
    "* Даны 2 переменных, в которых хранятся строки произвольной длины: phrase_1 и phrase_2.\n",
    "* Напишите код, который проверяет какая из этих строк длиннее."
   ]
  },
  {
   "cell_type": "code",
   "execution_count": 4,
   "metadata": {
    "scrolled": true
   },
   "outputs": [
    {
     "name": "stdout",
     "output_type": "stream",
     "text": [
      "Фраза 2 длиннее фразы 1\n"
     ]
    }
   ],
   "source": [
    "phrase_1 = 'Друзья, добро пожаловать к нам в город' \n",
    "phrase_2 = 'Добро пожаловать! Ведите себя прилично!' \n",
    "\n",
    "if len(phrase_1) > len(phrase_2):\n",
    "    print('Фраза 1 длиннее фразы 2')\n",
    "elif len(phrase_1) < len(phrase_2):\n",
    "    print('Фраза 2 длиннее фразы 1')\n",
    "elif len(phrase_1) == len(phrase_2):\n",
    "    print('Фразы равной длины')\n",
    "else:\n",
    "    print('Конец программы')"
   ]
  },
  {
   "cell_type": "markdown",
   "metadata": {},
   "source": [
    "### Задание 2:\n",
    "\n",
    "* Дана переменная, в которой хранится четырехзначное число (год). \n",
    "* Необходимо написать программу, которая выведет, является ли данный год високосным или обычным. "
   ]
  },
  {
   "cell_type": "code",
   "execution_count": 7,
   "metadata": {},
   "outputs": [
    {
     "name": "stdout",
     "output_type": "stream",
     "text": [
      "Високостный год\n"
     ]
    }
   ],
   "source": [
    "year = 2020\n",
    "\n",
    "if (year % 4 == 0) and (year % 100 != 0) or (year % 400 == 0):\n",
    "    print('Високостный год')\n",
    "else:\n",
    "    print('Обычный год')"
   ]
  },
  {
   "cell_type": "markdown",
   "metadata": {},
   "source": [
    "### Задание 3:\n",
    "\n",
    "* Необходимо написать программу, которая будет запрашивать у пользователя месяц и дату рождения и выводить соответствующий знак зодиака."
   ]
  },
  {
   "cell_type": "code",
   "execution_count": 8,
   "metadata": {},
   "outputs": [
    {
     "name": "stdout",
     "output_type": "stream",
     "text": [
      "Введите день рождения:26\n",
      "Введите месяц рождения:08\n",
      "Введите год рождения:1992\n",
      "Знак зодиака:Дева\n"
     ]
    }
   ],
   "source": [
    "date=int(input(\"Введите день рождения:\"))\n",
    "\n",
    "month=int(input(\"Введите месяц рождения:\"))\n",
    "\n",
    "year=int(input(\"Введите год рождения:\"))\n",
    "\n",
    "\n",
    "if (date>=21 and date<=31 and month==3) or( month==4 and date>=1 and date<=19):\n",
    "\n",
    "   print(\"Знак зодиака:Овен\")\n",
    "\n",
    "elif (date>=20 and date<=30 and month==4) or( month==5 and date>=1 and date<=20):\n",
    "\n",
    "   print(\"Знак зодиака:Телец\")\n",
    "\n",
    "elif (date>=21 and date<=31 and month==5) or( month==6 and date>=1 and date<=21):\n",
    "\n",
    "   print(\"Знак зодиака:Близнецы\")\n",
    "\n",
    "elif (date>=22 and date<=30 and month==6) or( month==7 and date>=1 and date<=22):\n",
    "\n",
    "   print(\"Знак зодиака:Рак\")\n",
    "\n",
    "elif (date>=23 and date<=31 and month==7) or( month==8 and date>=1 and date<=22):\n",
    "\n",
    "   print(\"Знак зодиака:Лев\")\n",
    "\n",
    "elif (date>=23 and date<=31 and month==8) or( month==9 and date>=1 and date<=22):\n",
    "\n",
    "   print(\"Знак зодиака:Дева\")\n",
    "\n",
    "elif (date>=23 and date<=30 and month==9) or( month==10 and date>=1 and date<=23):\n",
    "\n",
    "   print(\"Знак зодиака:Весы\")\n",
    "\n",
    "elif (date>=24 and date<=31 and month==10) or( month==11 and date>=1 and date<=22):\n",
    "\n",
    "   print(\"Знак зодиака:Скорпион\")\n",
    "\n",
    "elif (date>=23 and date<=30 and month==11) or( month==12 and date>=1 and date<=21):\n",
    "\n",
    "   print(\"Знак зодиака:Стрелец\")\n",
    "\n",
    "elif (date>=22 and date<=31 and month==12) or( month==1 and date>=1 and date<=20):\n",
    "\n",
    "   print(\"Знак зодиака:Козерог\")\n",
    "\n",
    "elif (date>=21 and date<=31 and month==1) or( month==2 and date>=1 and date<=18):\n",
    "\n",
    "   print(\"Знак зодиака:Водолей\")\n",
    "\n",
    "elif (date>=19 and date<=29 and month==2) or( month==3 and date>=1 and date<=20):\n",
    "\n",
    "   print(\"Знак зодиака:Рыбы\")"
   ]
  },
  {
   "cell_type": "markdown",
   "metadata": {},
   "source": [
    "### Задание 4:\n",
    "\n",
    "* Вам нужно написать программу для подбора упаковок по размерам товара. Размеры хранятся в переменных (в сантиметрах):\n",
    "\n",
    "width = 10\n",
    "\n",
    "length = 205\n",
    "\n",
    "height = 5\n",
    "\n",
    "Используйте следующие правила:\n",
    "\n",
    "* если каждое из трех измерений менее 15 сантиметров, то выведите на экран \"Коробка №1\";\n",
    "* если хотя бы одно из измерений больше 15 сантиметров, но менее 50 сантиметров, то выводите \"Коробка №2\";\n",
    "* если длина товара больше 2 метров, то выводите \"Упаковка для лыж\";\n",
    "* во всех остальных случаях выводите \"Стандартная коробка №3\"."
   ]
  },
  {
   "cell_type": "code",
   "execution_count": 9,
   "metadata": {},
   "outputs": [
    {
     "name": "stdout",
     "output_type": "stream",
     "text": [
      "Упаковка для лыж\n"
     ]
    }
   ],
   "source": [
    "width = 10\n",
    "length = 205\n",
    "height = 5\n",
    "\n",
    "if width < 15 and length < 15 and height < 15:\n",
    "    print(\"Коробка №1\")\n",
    "elif (width > 15 and width < 50) or (length > 15 and length < 50) or (height > 15 and height < 50):\n",
    "    print(\"Коробка №2\")\n",
    "elif length > 200:\n",
    "    print(\"Упаковка для лыж\")\n",
    "else:\n",
    "    print(\"Стандартная коробка №3\")"
   ]
  },
  {
   "cell_type": "markdown",
   "metadata": {},
   "source": [
    "### Задание 5:\n",
    "\n",
    "\n",
    "* Дана переменная, в которой хранится шестизначное число (номер проездного билета). \n",
    "* Напишите программу, которая будет определять, является ли данный билет \"счастливым\". \n",
    "\n",
    "Билет считается счастливым, если сумма первых трех цифр совпадает с суммой последних трех цифр номера."
   ]
  },
  {
   "cell_type": "code",
   "execution_count": 13,
   "metadata": {},
   "outputs": [
    {
     "name": "stdout",
     "output_type": "stream",
     "text": [
      "Введите номер билета из 6 цифр: 123321\n",
      "Вы СЧАСТЛИВЧИК\n"
     ]
    }
   ],
   "source": [
    "Function1 = input(\"Введите номер билета из 6 цифр: \")\n",
    "\n",
    "numbers = list(Function1)\n",
    "\n",
    "numbers = [int(i) for i in numbers]\n",
    "\n",
    "if (sum(numbers[:3]) == sum(numbers[3:])):\n",
    "    print(\"Вы СЧАСТЛИВЧИК\")\n",
    "else:\n",
    "    print(\"Повезет в другой раз\")"
   ]
  },
  {
   "cell_type": "markdown",
   "metadata": {},
   "source": [
    "### Задание 6:\n",
    "\n",
    "Напишите программу, которая сможет вычислять площади трех фигур (круг, треугольник и прямоугольник). \n",
    "\n",
    "Тип фигуры запрашиваем через пользовательский ввод, после чего делаем запрос характеристик фигуры:\n",
    "\n",
    "* если пользователь выбрал круг, запрашиваем его радиус,\n",
    "* если треугольник – длины трех его сторон;\n",
    "* если прямоугольник – длины двух его сторон"
   ]
  },
  {
   "cell_type": "code",
   "execution_count": 22,
   "metadata": {},
   "outputs": [
    {
     "name": "stdout",
     "output_type": "stream",
     "text": [
      "Введите тип фигуры: Прямоугольник\n",
      "Введите сторону a: 4\n",
      "Введите сторону b: 5\n",
      "Площадь прямоугольника:  20\n"
     ]
    }
   ],
   "source": [
    "Figure=input(\"Введите тип фигуры: \")\n",
    "\n",
    "if Figure == 'Круг':\n",
    "    r=input(\"Введите радиус круга: \")\n",
    "    Pi=3.14\n",
    "    print('Площадь круга:', int(r)*int(r)*Pi)\n",
    "elif Figure == 'Прямоугольник':\n",
    "    a=input(\"Введите сторону a: \")\n",
    "    b=input(\"Введите сторону b: \")\n",
    "    print('Площадь прямоугольника: ', int(a)*int(b))\n",
    "elif (Figure == 'Треугольник'):\n",
    "    a=input(\"Введите сторону a: \")\n",
    "    b=input(\"Введите сторону b: \")\n",
    "    c=input(\"Введите сторону c: \")\n",
    "    p=(int(a)+int(b)+int(c))/2\n",
    "    print('Площадь треугольника: ', math.sqrt((p)(p-int(a))*(p-int(b))*(p-int(c))))"
   ]
  },
  {
   "cell_type": "code",
   "execution_count": null,
   "metadata": {},
   "outputs": [],
   "source": []
  }
 ],
 "metadata": {
  "kernelspec": {
   "display_name": "Python 3",
   "language": "python",
   "name": "python3"
  },
  "language_info": {
   "codemirror_mode": {
    "name": "ipython",
    "version": 3
   },
   "file_extension": ".py",
   "mimetype": "text/x-python",
   "name": "python",
   "nbconvert_exporter": "python",
   "pygments_lexer": "ipython3",
   "version": "3.8.3"
  }
 },
 "nbformat": 4,
 "nbformat_minor": 4
}
