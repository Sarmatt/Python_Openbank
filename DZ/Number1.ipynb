{
 "cells": [
  {
   "cell_type": "markdown",
   "metadata": {},
   "source": [
    "Задание 1\n",
    "\n",
    "Даны 2 переменных, в которых хранятся строки произвольной длины: phrase_1 и phrase_2.\n",
    "Напишите код, который проверяет какая из этих строк длиннее."
   ]
  },
  {
   "cell_type": "code",
   "execution_count": 4,
   "metadata": {},
   "outputs": [
    {
     "data": {
      "text/plain": [
       "True"
      ]
     },
     "execution_count": 4,
     "metadata": {},
     "output_type": "execute_result"
    }
   ],
   "source": [
    "phrase_1 = 'Добро пожаловать к нам в город' \n",
    "phrase_2 = 'Добро пожаловать' \n",
    "len(phrase_1) > len(phrase_2) "
   ]
  },
  {
   "cell_type": "markdown",
   "metadata": {},
   "source": [
    "Задание 2\n",
    "\n",
    "Дана переменная, в которой хранится четырехзначное число (год). Необходимо написать программу, которая выведет, является ли данный год високосным или обычным. "
   ]
  },
  {
   "cell_type": "code",
   "execution_count": 7,
   "metadata": {},
   "outputs": [
    {
     "name": "stdout",
     "output_type": "stream",
     "text": [
      "Обычный год\n"
     ]
    }
   ],
   "source": [
    "year = 2019\n",
    "\n",
    "if (year % 4 == 0) and (year % 100 != 0) or (year % 400 == 0):\n",
    "    print('Високостный год')\n",
    "else:\n",
    "    print('Обычный год')"
   ]
  },
  {
   "cell_type": "markdown",
   "metadata": {},
   "source": [
    "Задание 3\n",
    "\n",
    "Необходимо написать программу, которая будет запрашивать у пользователя месяц и дату рождения и выводить соответствующий знак зодиака."
   ]
  },
  {
   "cell_type": "code",
   "execution_count": 8,
   "metadata": {},
   "outputs": [
    {
     "name": "stdout",
     "output_type": "stream",
     "text": [
      "Введите день рождения:25\n",
      "Введите месяц рождения:06\n",
      "Введите год рождения:1995\n",
      "Знак зодиака:Рак\n"
     ]
    }
   ],
   "source": [
    "date=int(input(\"Введите день рождения:\"))\n",
    "\n",
    "month=int(input(\"Введите месяц рождения:\"))\n",
    "\n",
    "year=int(input(\"Введите год рождения:\"))\n",
    "\n",
    "\n",
    "if (date>=21 and date<=31 and month==3) or( month==4 and date>=1 and date<=19):\n",
    "\n",
    "   print(\"Знак зодиака:Овен\")\n",
    "\n",
    "elif (date>=20 and date<=30 and month==4) or( month==5 and date>=1 and date<=20):\n",
    "\n",
    "   print(\"Знак зодиака:Телец\")\n",
    "\n",
    "elif (date>=21 and date<=31 and month==5) or( month==6 and date>=1 and date<=21):\n",
    "\n",
    "   print(\"Знак зодиака:Близнецы\")\n",
    "\n",
    "elif (date>=22 and date<=30 and month==6) or( month==7 and date>=1 and date<=22):\n",
    "\n",
    "   print(\"Знак зодиака:Рак\")\n",
    "\n",
    "elif (date>=23 and date<=31 and month==7) or( month==8 and date>=1 and date<=22):\n",
    "\n",
    "   print(\"Знак зодиака:Лев\")\n",
    "\n",
    "elif (date>=23 and date<=31 and month==8) or( month==9 and date>=1 and date<=22):\n",
    "\n",
    "   print(\"Знак зодиака:Дева\")\n",
    "\n",
    "elif (date>=23 and date<=30 and month==9) or( month==10 and date>=1 and date<=23):\n",
    "\n",
    "   print(\"Знак зодиака:Весы\")\n",
    "\n",
    "elif (date>=24 and date<=31 and month==10) or( month==11 and date>=1 and date<=22):\n",
    "\n",
    "   print(\"Знак зодиака:Скорпион\")\n",
    "\n",
    "elif (date>=23 and date<=30 and month==11) or( month==12 and date>=1 and date<=21):\n",
    "\n",
    "   print(\"Знак зодиака:Стрелец\")\n",
    "\n",
    "elif (date>=22 and date<=31 and month==12) or( month==1 and date>=1 and date<=20):\n",
    "\n",
    "   print(\"Знак зодиака:Козерог\")\n",
    "\n",
    "elif (date>=21 and date<=31 and month==1) or( month==2 and date>=1 and date<=18):\n",
    "\n",
    "   print(\"Знак зодиака:Водолей\")\n",
    "\n",
    "elif (date>=19 and date<=29 and month==2) or( month==3 and date>=1 and date<=20):\n",
    "\n",
    "   print(\"Знак зодиака:Рыбы\")"
   ]
  },
  {
   "cell_type": "markdown",
   "metadata": {},
   "source": [
    "Задание 4\n",
    "\n",
    "Вам нужно написать программу для подбора упаковок по размерам товара. Размеры хранятся в переменных (в сантиметрах):\n",
    "\n",
    "width = 10\n",
    "length = 205\n",
    "height = 5\n",
    "Используйте следующие правила:\n",
    "\n",
    "если каждое из трех измерений менее 15 сантиметров, то выведите на экран \"Коробка №1\";\n",
    "если хотя бы одно из измерений больше 15 сантиметров, но менее 50 сантиметров, то выводите \"Коробка №2\";\n",
    "если длина товара больше 2 метров, то выводите \"Упаковка для лыж\";\n",
    "во всех остальных случаях выводите \"Стандартная коробка №3\"."
   ]
  },
  {
   "cell_type": "code",
   "execution_count": 11,
   "metadata": {},
   "outputs": [
    {
     "name": "stdout",
     "output_type": "stream",
     "text": [
      "Упаковка для лыж\n"
     ]
    }
   ],
   "source": [
    "width = 10\n",
    "length = 205\n",
    "height = 5\n",
    "\n",
    "if width < 15 and length < 15 and height < 15:\n",
    "    print(\"Коробка №1\")\n",
    "elif (width > 15 and width < 50) or (length > 15 and length < 50) or (height > 15 and height < 50):\n",
    "    print(\"Коробка №2\")\n",
    "elif length > 200:\n",
    "    print(\"Упаковка для лыж\")\n",
    "else:\n",
    "    print(\"Стандартная коробка №3\")"
   ]
  },
  {
   "cell_type": "markdown",
   "metadata": {},
   "source": [
    "Задание 5\n",
    "\n",
    "\n",
    "Дана переменная, в которой хранится шестизначное число (номер проездного билета). Напишите программу, которая будет определять, является ли данный билет \"счастливым\". Билет считается счастливым, если сумма первых трех цифр совпадает с суммой последних трех цифр номера."
   ]
  },
  {
   "cell_type": "code",
   "execution_count": null,
   "metadata": {},
   "outputs": [],
   "source": [
    "Number = 165831\n",
    "\n",
    "One=int(input(\"Введите первый номер вашего проездного билета\"))\n",
    "\n",
    "Two=int(input(\"Введите второй номер вашего проездного билета\"))\n",
    "\n",
    "Three=int(input(\"Введите третий номер вашего проездного билета\"))\n",
    "\n",
    "Four=int(input(\"Введите четвертый номер вашего проездного билета\"))\n",
    "\n",
    "Five=int(input(\"Введите пятый номер вашего проездного билета\"))\n",
    "\n",
    "Six=int(input(\"Введите шестой номер вашего проездного билета\"))\n",
    "\n",
    "first = one + two + three\n",
    "\n",
    "second = four + five + six\n",
    "\n",
    "if first = second:\n",
    "    print(\"ВЫ СЧАСТЛИВЧИК!!!\")\n",
    "else:\n",
    "    Print(\"Повезёт в другой раз\")\n",
    "    \n",
    "\n",
    "    похже доделаю"
   ]
  },
  {
   "cell_type": "code",
   "execution_count": null,
   "metadata": {},
   "outputs": [],
   "source": []
  }
 ],
 "metadata": {
  "kernelspec": {
   "display_name": "Python 3",
   "language": "python",
   "name": "python3"
  },
  "language_info": {
   "codemirror_mode": {
    "name": "ipython",
    "version": 3
   },
   "file_extension": ".py",
   "mimetype": "text/x-python",
   "name": "python",
   "nbconvert_exporter": "python",
   "pygments_lexer": "ipython3",
   "version": "3.8.3"
  }
 },
 "nbformat": 4,
 "nbformat_minor": 4
}
