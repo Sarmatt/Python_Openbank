{
 "cells": [
  {
   "cell_type": "markdown",
   "metadata": {},
   "source": [
    "### Задание 1\n",
    "\n",
    "Печатные газеты использовали свой формат дат для каждого выпуска. Для каждой газеты из списка напишите формат указанной даты для перевода в объект datetime:\n",
    "\n",
    "    The Moscow Times - Wednesday, October 2, 2002\n",
    "    The Guardian - Friday, 11.10.13\n",
    "    Daily News - Thursday, 18 August 1977"
   ]
  },
  {
   "cell_type": "code",
   "execution_count": 1,
   "metadata": {},
   "outputs": [
    {
     "name": "stdout",
     "output_type": "stream",
     "text": [
      "2002-10-02 00:00:00\n",
      "2013-10-11 00:00:00\n",
      "1977-08-18 00:00:00\n"
     ]
    }
   ],
   "source": [
    "\n",
    "# The Moscow Times - Wednesday, October 2, 2002\n",
    "# The Guardian - Friday, 11.10.13\n",
    "# Daily News - Thursday, 18 August 1977\n",
    "from datetime import datetime as dt \n",
    "mt = 'Wednesday, October 2, 2002'\n",
    "gr = 'Friday, 11.10.13'\n",
    "dn = 'Thursday, 18 August 1977'\n",
    "\n",
    "mt_new = dt.strptime(mt,'%A, %B %d, %Y')\n",
    "gr_new = dt.strptime(gr,'%A, %d.%m.%y')\n",
    "dn_new = dt.strptime(dn, '%A, %d %B %Y')\n",
    "\n",
    "print(mt_new)\n",
    "print(gr_new)\n",
    "print(dn_new)"
   ]
  },
  {
   "cell_type": "markdown",
   "metadata": {},
   "source": [
    "### Задание 2\n",
    "\n",
    "Дан поток дат в формате YYYY-MM-DD, в которых встречаются некорректные значения:\n",
    "\n",
    "    stream = [‘2018-04-02’, ‘2018-02-29’, ‘2018-19-02’]\n",
    "\n",
    "Напишите функцию, которая проверяет эти даты на корректность. Т. е. для каждой даты возвращает True (дата корректна) или False (некорректная дата)."
   ]
  },
  {
   "cell_type": "code",
   "execution_count": 2,
   "metadata": {},
   "outputs": [],
   "source": [
    "stream = ['2018-04-02', '2018-02-29', '2018-19-02']\n",
    "\n",
    "\n",
    "def date_check (list_obj):\n",
    "    \n",
    "    from datetime import datetime as dt \n",
    "    for line in list_obj:\n",
    "        try:\n",
    "            dt.strptime(line,'%Y-%m-%d')\n",
    "            a = print('True')\n",
    "        except: \n",
    "            a = print('False')\n",
    "    return a"
   ]
  },
  {
   "cell_type": "code",
   "execution_count": 3,
   "metadata": {},
   "outputs": [
    {
     "name": "stdout",
     "output_type": "stream",
     "text": [
      "True\n",
      "False\n",
      "False\n"
     ]
    }
   ],
   "source": [
    "date_check (stream)"
   ]
  },
  {
   "cell_type": "markdown",
   "metadata": {},
   "source": [
    "### Задание 3\n",
    "\n",
    "Напишите функцию date_range, которая возвращает список дат за период от start_date до end_date. \n",
    "\n",
    "Даты должны вводиться в формате YYYY-MM-DD. В случае неверного формата или при start_date > end_date должен возвращаться пустой список."
   ]
  },
  {
   "cell_type": "code",
   "execution_count": 4,
   "metadata": {},
   "outputs": [],
   "source": [
    "\n",
    "# from datetime import datetime as dt\n",
    "# from datetime import timedelta as td\n",
    "\n",
    "\n",
    "# start_date  = '2020-01-01'\n",
    "# end_date = '2020-01-10'\n",
    "\n",
    "\n",
    "\n",
    "def dates_list (start_date,end_date):\n",
    "    from datetime import datetime as dt\n",
    "    from datetime import timedelta as td\n",
    "\n",
    "    try: \n",
    "    \n",
    "        start_dt = dt.strptime(start_date,'%Y-%m-%d')\n",
    "        end_dt = dt.strptime(end_date,'%Y-%m-%d')\n",
    "\n",
    "        date_list = []\n",
    "        while start_dt <= end_dt:\n",
    "            print(start_dt.strftime('%Y-%m-%d'))\n",
    "            start_dt += td(days=1)\n",
    "    except:\n",
    "        date_list =[]\n",
    "        print('Некорректна введена дата начала или дата конца')\n",
    "        print(date_list)"
   ]
  },
  {
   "cell_type": "code",
   "execution_count": 5,
   "metadata": {},
   "outputs": [
    {
     "name": "stdout",
     "output_type": "stream",
     "text": [
      "2020-01-01\n",
      "2020-01-02\n",
      "2020-01-03\n",
      "2020-01-04\n",
      "2020-01-05\n",
      "2020-01-06\n",
      "2020-01-07\n",
      "2020-01-08\n",
      "2020-01-09\n",
      "2020-01-10\n",
      "2020-01-11\n",
      "2020-01-12\n",
      "2020-01-13\n",
      "2020-01-14\n",
      "2020-01-15\n",
      "2020-01-16\n",
      "2020-01-17\n",
      "2020-01-18\n",
      "2020-01-19\n",
      "2020-01-20\n",
      "2020-01-21\n",
      "2020-01-22\n",
      "2020-01-23\n",
      "2020-01-24\n",
      "2020-01-25\n",
      "2020-01-26\n",
      "2020-01-27\n",
      "2020-01-28\n",
      "2020-01-29\n",
      "2020-01-30\n",
      "2020-01-31\n"
     ]
    }
   ],
   "source": [
    "start_date  = '2020-01-01'\n",
    "end_date = '2020-01-31'\n",
    "\n",
    "dates_list (start_date,end_date)"
   ]
  },
  {
   "cell_type": "markdown",
   "metadata": {},
   "source": [
    "### Задание 4 (бонусное)\n",
    "\n",
    "Ваш коллега прислал код функции:\n",
    "\n",
    "    DEFAULT_USER_COUNT = 3\n",
    "\n",
    "    def delete_and_return_last_user(region, default_list=[‘A100’, ‘A101’, ‘A102’]):\n",
    "    \"\"“ \n",
    "    Удаляет из списка default_list последнего пользователя\n",
    "    и возвращает ID нового последнего пользователя.\n",
    "    ”\"\"\n",
    "    \n",
    "    element_to_delete = default_list[-1]\n",
    "    default_list.remove(element_to_delete)\n",
    "\n",
    "            1 return default_list[DEFAULT_USER_COUNT-2]\n",
    "\n",
    "\n",
    "    При однократном вызове этой функции все работает корректно:\n",
    "\n",
    "    delete_and_return_last_user(1)\n",
    "    ‘A101’\n",
    "\n",
    "Однако, при повторном вызове получается ошибка IndexError: list index out of range.\n",
    "\n",
    "Задание:\n",
    "\n",
    "\n",
    "1. Что значит ошибка list index out of range?\n",
    "1. Почему при первом запуске функция работает корректно, а при втором - нет?"
   ]
  },
  {
   "cell_type": "code",
   "execution_count": null,
   "metadata": {},
   "outputs": [],
   "source": []
  }
 ],
 "metadata": {
  "kernelspec": {
   "display_name": "Python 3",
   "language": "python",
   "name": "python3"
  },
  "language_info": {
   "codemirror_mode": {
    "name": "ipython",
    "version": 3
   },
   "file_extension": ".py",
   "mimetype": "text/x-python",
   "name": "python",
   "nbconvert_exporter": "python",
   "pygments_lexer": "ipython3",
   "version": "3.8.3"
  }
 },
 "nbformat": 4,
 "nbformat_minor": 4
}
